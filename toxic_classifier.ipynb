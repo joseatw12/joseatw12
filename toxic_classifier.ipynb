{
  "nbformat": 4,
  "nbformat_minor": 0,
  "metadata": {
    "colab": {
      "provenance": [],
      "include_colab_link": true
    },
    "kernelspec": {
      "name": "python3",
      "display_name": "Python 3"
    },
    "language_info": {
      "name": "python"
    }
  },
  "cells": [
    {
      "cell_type": "markdown",
      "metadata": {
        "id": "view-in-github",
        "colab_type": "text"
      },
      "source": [
        "<a href=\"https://colab.research.google.com/github/joseatw12/joseatw12/blob/main/toxic_classifier.ipynb\" target=\"_parent\"><img src=\"https://colab.research.google.com/assets/colab-badge.svg\" alt=\"Open In Colab\"/></a>"
      ]
    },
    {
      "cell_type": "code",
      "execution_count": null,
      "metadata": {
        "colab": {
          "base_uri": "https://localhost:8080/"
        },
        "id": "H3Wqxrl9aZPM",
        "outputId": "d2e034d3-3571-48e5-da3b-7ba6c440458c"
      },
      "outputs": [
        {
          "output_type": "stream",
          "name": "stderr",
          "text": [
            "100%|██████████| 240/240 [07:34<00:00,  1.89s/it]\n"
          ]
        },
        {
          "output_type": "stream",
          "name": "stdout",
          "text": [
            "✅ 所有评论预测完成并已保存为 test_predictions.csv\n"
          ]
        }
      ],
      "source": [
        "import pandas as pd\n",
        "import torch\n",
        "import numpy as np\n",
        "from tqdm import tqdm\n",
        "\n",
        "# 1. 加载 test.csv\n",
        "test_df = pd.read_csv(\"test.csv\")\n",
        "test_texts = test_df['comment_text'].fillna(\"\").tolist()\n",
        "\n",
        "# 2. 分批处理（每次 200 条）\n",
        "batch_size = 200\n",
        "labels = ['toxic', 'severe_toxic', 'obscene', 'threat', 'insult', 'identity_hate']\n",
        "all_probs = []\n",
        "\n",
        "model.eval()\n",
        "\n",
        "for i in tqdm(range(0, len(test_texts), batch_size)):\n",
        "    batch_texts = test_texts[i:i+batch_size]\n",
        "\n",
        "    inputs = tokenizer(\n",
        "        batch_texts,\n",
        "        truncation=True,\n",
        "        padding=True,\n",
        "        max_length=256,\n",
        "        return_tensors=\"pt\"\n",
        "    )\n",
        "\n",
        "    with torch.no_grad():\n",
        "        outputs = model(**inputs)\n",
        "        probs = torch.sigmoid(outputs.logits).cpu().numpy()\n",
        "        all_probs.append(probs)\n",
        "\n",
        "# 合并所有结果\n",
        "final_probs = np.vstack(all_probs)\n",
        "\n",
        "# 3. 保存结果\n",
        "pred_df = pd.DataFrame(final_probs, columns=labels)\n",
        "pred_df.insert(0, 'comment_text', test_texts)\n",
        "pred_df.to_csv(\"test_predictions.csv\", index=False)\n",
        "\n",
        "print(\"✅ 所有评论预测完成并已保存为 test_predictions.csv\")\n"
      ]
    }
  ]
}